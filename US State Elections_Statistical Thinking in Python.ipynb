{
 "cells": [
  {
   "cell_type": "code",
   "execution_count": 6,
   "metadata": {},
   "outputs": [],
   "source": [
    "# Introduction to Exploratory Data Analysis:\n",
    "\n",
    "# Exploratory data analysis:\n",
    "\n",
    "#The process of organizing, plotting, and summarizing a data set:\n"
   ]
  },
  {
   "cell_type": "code",
   "execution_count": 1,
   "metadata": {},
   "outputs": [],
   "source": [
    "import os\n",
    "\n",
    "os.getcwd()\n",
    "\n",
    "os.chdir('C:/Users/stayde/Documents/Python Scripts/Python_14_Files')"
   ]
  },
  {
   "cell_type": "code",
   "execution_count": null,
   "metadata": {},
   "outputs": [],
   "source": [
    "# Consider following dataset:\n",
    "# 2008 US swing state election results:"
   ]
  },
  {
   "cell_type": "code",
   "execution_count": 2,
   "metadata": {},
   "outputs": [],
   "source": [
    "import pandas as pd\n",
    "\n",
    "df_swing = pd.read_csv('2008_swing_states.csv') "
   ]
  },
  {
   "cell_type": "code",
   "execution_count": 5,
   "metadata": {},
   "outputs": [
    {
     "data": {
      "text/html": [
       "<div>\n",
       "<style scoped>\n",
       "    .dataframe tbody tr th:only-of-type {\n",
       "        vertical-align: middle;\n",
       "    }\n",
       "\n",
       "    .dataframe tbody tr th {\n",
       "        vertical-align: top;\n",
       "    }\n",
       "\n",
       "    .dataframe thead th {\n",
       "        text-align: right;\n",
       "    }\n",
       "</style>\n",
       "<table border=\"1\" class=\"dataframe\">\n",
       "  <thead>\n",
       "    <tr style=\"text-align: right;\">\n",
       "      <th></th>\n",
       "      <th>state</th>\n",
       "      <th>county</th>\n",
       "      <th>dem_share</th>\n",
       "    </tr>\n",
       "  </thead>\n",
       "  <tbody>\n",
       "    <tr>\n",
       "      <th>0</th>\n",
       "      <td>PA</td>\n",
       "      <td>Erie County</td>\n",
       "      <td>60.08</td>\n",
       "    </tr>\n",
       "    <tr>\n",
       "      <th>1</th>\n",
       "      <td>PA</td>\n",
       "      <td>Bradford County</td>\n",
       "      <td>40.64</td>\n",
       "    </tr>\n",
       "    <tr>\n",
       "      <th>2</th>\n",
       "      <td>PA</td>\n",
       "      <td>Tioga County</td>\n",
       "      <td>36.07</td>\n",
       "    </tr>\n",
       "    <tr>\n",
       "      <th>3</th>\n",
       "      <td>PA</td>\n",
       "      <td>McKean County</td>\n",
       "      <td>41.21</td>\n",
       "    </tr>\n",
       "    <tr>\n",
       "      <th>4</th>\n",
       "      <td>PA</td>\n",
       "      <td>Potter County</td>\n",
       "      <td>31.04</td>\n",
       "    </tr>\n",
       "    <tr>\n",
       "      <th>5</th>\n",
       "      <td>PA</td>\n",
       "      <td>Wayne County</td>\n",
       "      <td>43.78</td>\n",
       "    </tr>\n",
       "    <tr>\n",
       "      <th>6</th>\n",
       "      <td>PA</td>\n",
       "      <td>Susquehanna County</td>\n",
       "      <td>44.08</td>\n",
       "    </tr>\n",
       "    <tr>\n",
       "      <th>7</th>\n",
       "      <td>PA</td>\n",
       "      <td>Warren County</td>\n",
       "      <td>46.85</td>\n",
       "    </tr>\n",
       "    <tr>\n",
       "      <th>8</th>\n",
       "      <td>OH</td>\n",
       "      <td>Ashtabula County</td>\n",
       "      <td>56.94</td>\n",
       "    </tr>\n",
       "    <tr>\n",
       "      <th>9</th>\n",
       "      <td>OH</td>\n",
       "      <td>Lake County</td>\n",
       "      <td>50.46</td>\n",
       "    </tr>\n",
       "    <tr>\n",
       "      <th>10</th>\n",
       "      <td>PA</td>\n",
       "      <td>Crawford County</td>\n",
       "      <td>44.71</td>\n",
       "    </tr>\n",
       "    <tr>\n",
       "      <th>11</th>\n",
       "      <td>OH</td>\n",
       "      <td>Lucas County</td>\n",
       "      <td>65.99</td>\n",
       "    </tr>\n",
       "    <tr>\n",
       "      <th>12</th>\n",
       "      <td>OH</td>\n",
       "      <td>Fulton County</td>\n",
       "      <td>45.88</td>\n",
       "    </tr>\n",
       "    <tr>\n",
       "      <th>13</th>\n",
       "      <td>OH</td>\n",
       "      <td>Geauga County</td>\n",
       "      <td>42.23</td>\n",
       "    </tr>\n",
       "    <tr>\n",
       "      <th>14</th>\n",
       "      <td>OH</td>\n",
       "      <td>Williams County</td>\n",
       "      <td>45.26</td>\n",
       "    </tr>\n",
       "    <tr>\n",
       "      <th>15</th>\n",
       "      <td>PA</td>\n",
       "      <td>Wyoming County</td>\n",
       "      <td>46.15</td>\n",
       "    </tr>\n",
       "    <tr>\n",
       "      <th>16</th>\n",
       "      <td>PA</td>\n",
       "      <td>Lackawanna County</td>\n",
       "      <td>63.10</td>\n",
       "    </tr>\n",
       "    <tr>\n",
       "      <th>17</th>\n",
       "      <td>PA</td>\n",
       "      <td>Elk County</td>\n",
       "      <td>52.20</td>\n",
       "    </tr>\n",
       "    <tr>\n",
       "      <th>18</th>\n",
       "      <td>PA</td>\n",
       "      <td>Forest County</td>\n",
       "      <td>43.18</td>\n",
       "    </tr>\n",
       "    <tr>\n",
       "      <th>19</th>\n",
       "      <td>PA</td>\n",
       "      <td>Venango County</td>\n",
       "      <td>40.24</td>\n",
       "    </tr>\n",
       "    <tr>\n",
       "      <th>20</th>\n",
       "      <td>OH</td>\n",
       "      <td>Erie County</td>\n",
       "      <td>57.01</td>\n",
       "    </tr>\n",
       "    <tr>\n",
       "      <th>21</th>\n",
       "      <td>OH</td>\n",
       "      <td>Wood County</td>\n",
       "      <td>53.61</td>\n",
       "    </tr>\n",
       "    <tr>\n",
       "      <th>22</th>\n",
       "      <td>PA</td>\n",
       "      <td>Cameron County</td>\n",
       "      <td>39.92</td>\n",
       "    </tr>\n",
       "    <tr>\n",
       "      <th>23</th>\n",
       "      <td>PA</td>\n",
       "      <td>Pike County</td>\n",
       "      <td>47.87</td>\n",
       "    </tr>\n",
       "    <tr>\n",
       "      <th>24</th>\n",
       "      <td>PA</td>\n",
       "      <td>Lycoming County</td>\n",
       "      <td>37.77</td>\n",
       "    </tr>\n",
       "    <tr>\n",
       "      <th>25</th>\n",
       "      <td>PA</td>\n",
       "      <td>Sullivan County</td>\n",
       "      <td>40.11</td>\n",
       "    </tr>\n",
       "    <tr>\n",
       "      <th>26</th>\n",
       "      <td>OH</td>\n",
       "      <td>Lorain County</td>\n",
       "      <td>59.10</td>\n",
       "    </tr>\n",
       "    <tr>\n",
       "      <th>27</th>\n",
       "      <td>OH</td>\n",
       "      <td>Trumbull County</td>\n",
       "      <td>61.48</td>\n",
       "    </tr>\n",
       "    <tr>\n",
       "      <th>28</th>\n",
       "      <td>PA</td>\n",
       "      <td>Mercer County</td>\n",
       "      <td>49.85</td>\n",
       "    </tr>\n",
       "    <tr>\n",
       "      <th>29</th>\n",
       "      <td>OH</td>\n",
       "      <td>Henry County</td>\n",
       "      <td>43.43</td>\n",
       "    </tr>\n",
       "    <tr>\n",
       "      <th>...</th>\n",
       "      <td>...</td>\n",
       "      <td>...</td>\n",
       "      <td>...</td>\n",
       "    </tr>\n",
       "    <tr>\n",
       "      <th>192</th>\n",
       "      <td>FL</td>\n",
       "      <td>Highlands County</td>\n",
       "      <td>40.89</td>\n",
       "    </tr>\n",
       "    <tr>\n",
       "      <th>193</th>\n",
       "      <td>FL</td>\n",
       "      <td>Hardee County</td>\n",
       "      <td>35.03</td>\n",
       "    </tr>\n",
       "    <tr>\n",
       "      <th>194</th>\n",
       "      <td>FL</td>\n",
       "      <td>Manatee County</td>\n",
       "      <td>46.46</td>\n",
       "    </tr>\n",
       "    <tr>\n",
       "      <th>195</th>\n",
       "      <td>FL</td>\n",
       "      <td>Okeechobee County</td>\n",
       "      <td>40.32</td>\n",
       "    </tr>\n",
       "    <tr>\n",
       "      <th>196</th>\n",
       "      <td>FL</td>\n",
       "      <td>Saint Lucie County</td>\n",
       "      <td>56.11</td>\n",
       "    </tr>\n",
       "    <tr>\n",
       "      <th>197</th>\n",
       "      <td>FL</td>\n",
       "      <td>Sarasota County</td>\n",
       "      <td>49.95</td>\n",
       "    </tr>\n",
       "    <tr>\n",
       "      <th>198</th>\n",
       "      <td>FL</td>\n",
       "      <td>DeSoto County</td>\n",
       "      <td>43.76</td>\n",
       "    </tr>\n",
       "    <tr>\n",
       "      <th>199</th>\n",
       "      <td>FL</td>\n",
       "      <td>Martin County</td>\n",
       "      <td>43.15</td>\n",
       "    </tr>\n",
       "    <tr>\n",
       "      <th>200</th>\n",
       "      <td>FL</td>\n",
       "      <td>Glades County</td>\n",
       "      <td>41.61</td>\n",
       "    </tr>\n",
       "    <tr>\n",
       "      <th>201</th>\n",
       "      <td>FL</td>\n",
       "      <td>Charlotte County</td>\n",
       "      <td>46.34</td>\n",
       "    </tr>\n",
       "    <tr>\n",
       "      <th>202</th>\n",
       "      <td>FL</td>\n",
       "      <td>Palm Beach County</td>\n",
       "      <td>61.51</td>\n",
       "    </tr>\n",
       "    <tr>\n",
       "      <th>203</th>\n",
       "      <td>FL</td>\n",
       "      <td>Hendry County</td>\n",
       "      <td>46.37</td>\n",
       "    </tr>\n",
       "    <tr>\n",
       "      <th>204</th>\n",
       "      <td>FL</td>\n",
       "      <td>Lee County</td>\n",
       "      <td>44.78</td>\n",
       "    </tr>\n",
       "    <tr>\n",
       "      <th>205</th>\n",
       "      <td>FL</td>\n",
       "      <td>Collier County</td>\n",
       "      <td>38.66</td>\n",
       "    </tr>\n",
       "    <tr>\n",
       "      <th>206</th>\n",
       "      <td>FL</td>\n",
       "      <td>Broward County</td>\n",
       "      <td>67.45</td>\n",
       "    </tr>\n",
       "    <tr>\n",
       "      <th>207</th>\n",
       "      <td>FL</td>\n",
       "      <td>Miami-Dade County</td>\n",
       "      <td>58.09</td>\n",
       "    </tr>\n",
       "    <tr>\n",
       "      <th>208</th>\n",
       "      <td>FL</td>\n",
       "      <td>Monroe County</td>\n",
       "      <td>52.48</td>\n",
       "    </tr>\n",
       "    <tr>\n",
       "      <th>209</th>\n",
       "      <td>OH</td>\n",
       "      <td>Ottawa County</td>\n",
       "      <td>53.16</td>\n",
       "    </tr>\n",
       "    <tr>\n",
       "      <th>210</th>\n",
       "      <td>OH</td>\n",
       "      <td>Sandusky County</td>\n",
       "      <td>52.40</td>\n",
       "    </tr>\n",
       "    <tr>\n",
       "      <th>211</th>\n",
       "      <td>OH</td>\n",
       "      <td>Summit County</td>\n",
       "      <td>58.36</td>\n",
       "    </tr>\n",
       "    <tr>\n",
       "      <th>212</th>\n",
       "      <td>OH</td>\n",
       "      <td>Athens County</td>\n",
       "      <td>68.02</td>\n",
       "    </tr>\n",
       "    <tr>\n",
       "      <th>213</th>\n",
       "      <td>OH</td>\n",
       "      <td>Butler County</td>\n",
       "      <td>38.53</td>\n",
       "    </tr>\n",
       "    <tr>\n",
       "      <th>214</th>\n",
       "      <td>OH</td>\n",
       "      <td>Clinton County</td>\n",
       "      <td>34.58</td>\n",
       "    </tr>\n",
       "    <tr>\n",
       "      <th>215</th>\n",
       "      <td>OH</td>\n",
       "      <td>Cuyahoga County</td>\n",
       "      <td>69.64</td>\n",
       "    </tr>\n",
       "    <tr>\n",
       "      <th>216</th>\n",
       "      <td>OH</td>\n",
       "      <td>Franklin County</td>\n",
       "      <td>60.50</td>\n",
       "    </tr>\n",
       "    <tr>\n",
       "      <th>217</th>\n",
       "      <td>OH</td>\n",
       "      <td>Hamilton County</td>\n",
       "      <td>53.53</td>\n",
       "    </tr>\n",
       "    <tr>\n",
       "      <th>218</th>\n",
       "      <td>OH</td>\n",
       "      <td>Highland County</td>\n",
       "      <td>36.54</td>\n",
       "    </tr>\n",
       "    <tr>\n",
       "      <th>219</th>\n",
       "      <td>OH</td>\n",
       "      <td>Hocking County</td>\n",
       "      <td>49.58</td>\n",
       "    </tr>\n",
       "    <tr>\n",
       "      <th>220</th>\n",
       "      <td>OH</td>\n",
       "      <td>Licking County</td>\n",
       "      <td>41.97</td>\n",
       "    </tr>\n",
       "    <tr>\n",
       "      <th>221</th>\n",
       "      <td>OH</td>\n",
       "      <td>Madison County</td>\n",
       "      <td>38.11</td>\n",
       "    </tr>\n",
       "  </tbody>\n",
       "</table>\n",
       "<p>222 rows × 3 columns</p>\n",
       "</div>"
      ],
      "text/plain": [
       "    state              county  dem_share\n",
       "0      PA         Erie County      60.08\n",
       "1      PA     Bradford County      40.64\n",
       "2      PA        Tioga County      36.07\n",
       "3      PA       McKean County      41.21\n",
       "4      PA       Potter County      31.04\n",
       "5      PA        Wayne County      43.78\n",
       "6      PA  Susquehanna County      44.08\n",
       "7      PA       Warren County      46.85\n",
       "8      OH    Ashtabula County      56.94\n",
       "9      OH         Lake County      50.46\n",
       "10     PA     Crawford County      44.71\n",
       "11     OH        Lucas County      65.99\n",
       "12     OH       Fulton County      45.88\n",
       "13     OH       Geauga County      42.23\n",
       "14     OH     Williams County      45.26\n",
       "15     PA      Wyoming County      46.15\n",
       "16     PA   Lackawanna County      63.10\n",
       "17     PA          Elk County      52.20\n",
       "18     PA       Forest County      43.18\n",
       "19     PA      Venango County      40.24\n",
       "20     OH         Erie County      57.01\n",
       "21     OH         Wood County      53.61\n",
       "22     PA      Cameron County      39.92\n",
       "23     PA         Pike County      47.87\n",
       "24     PA     Lycoming County      37.77\n",
       "25     PA     Sullivan County      40.11\n",
       "26     OH       Lorain County      59.10\n",
       "27     OH     Trumbull County      61.48\n",
       "28     PA       Mercer County      49.85\n",
       "29     OH        Henry County      43.43\n",
       "..    ...                 ...        ...\n",
       "192    FL    Highlands County      40.89\n",
       "193    FL       Hardee County      35.03\n",
       "194    FL      Manatee County      46.46\n",
       "195    FL   Okeechobee County      40.32\n",
       "196    FL  Saint Lucie County      56.11\n",
       "197    FL     Sarasota County      49.95\n",
       "198    FL       DeSoto County      43.76\n",
       "199    FL       Martin County      43.15\n",
       "200    FL       Glades County      41.61\n",
       "201    FL    Charlotte County      46.34\n",
       "202    FL   Palm Beach County      61.51\n",
       "203    FL       Hendry County      46.37\n",
       "204    FL          Lee County      44.78\n",
       "205    FL      Collier County      38.66\n",
       "206    FL      Broward County      67.45\n",
       "207    FL   Miami-Dade County      58.09\n",
       "208    FL       Monroe County      52.48\n",
       "209    OH       Ottawa County      53.16\n",
       "210    OH     Sandusky County      52.40\n",
       "211    OH       Summit County      58.36\n",
       "212    OH       Athens County      68.02\n",
       "213    OH       Butler County      38.53\n",
       "214    OH      Clinton County      34.58\n",
       "215    OH     Cuyahoga County      69.64\n",
       "216    OH     Franklin County      60.50\n",
       "217    OH     Hamilton County      53.53\n",
       "218    OH     Highland County      36.54\n",
       "219    OH      Hocking County      49.58\n",
       "220    OH      Licking County      41.97\n",
       "221    OH      Madison County      38.11\n",
       "\n",
       "[222 rows x 3 columns]"
      ]
     },
     "execution_count": 5,
     "metadata": {},
     "output_type": "execute_result"
    }
   ],
   "source": [
    "df_swing[['state', 'county', 'dem_share']]"
   ]
  },
  {
   "cell_type": "code",
   "execution_count": 11,
   "metadata": {},
   "outputs": [],
   "source": [
    "# Plotting a histogram:\n",
    "\n",
    "#Generating a histogram:\n",
    "\n",
    "import matplotlib.pyplot as plt\n"
   ]
  },
  {
   "cell_type": "code",
   "execution_count": 14,
   "metadata": {},
   "outputs": [
    {
     "data": {
      "image/png": "[encoded data removed]",
      "text/plain": [
       "<Figure size 432x288 with 1 Axes>"
      ]
     },
     "metadata": {
      "needs_background": "light"
     },
     "output_type": "display_data"
    }
   ],
   "source": [
    "\n",
    "plt.hist(df_swing['dem_share'])\n",
    "plt.xlabel('percent of vote for Obama')\n",
    "plt.ylabel('number of counties')\n",
    "plt.show()"
   ]
  },
  {
   "cell_type": "code",
   "execution_count": 18,
   "metadata": {},
   "outputs": [
    {
     "data": {
      "image/png": "[encoded data removed]",
      "text/plain": [
       "<Figure size 432x288 with 1 Axes>"
      ]
     },
     "metadata": {
      "needs_background": "light"
     },
     "output_type": "display_data"
    }
   ],
   "source": [
    "# Histograms with different binning:\n",
    "\n",
    "bin_edges = [0, 10, 20, 30, 40, 50,60, 70, 80, 90, 100]\n",
    "\n",
    "_ = plt.hist(df_swing['dem_share'], bins = bin_edges)"
   ]
  },
  {
   "cell_type": "code",
   "execution_count": 20,
   "metadata": {},
   "outputs": [
    {
     "data": {
      "text/plain": [
       "(array([ 1.,  0.,  1.,  2.,  4., 16., 12., 21., 35., 33., 35., 19., 17.,\n",
       "        13.,  7.,  3.,  2.,  0.,  0.,  1.]),\n",
       " array([ 6.8  , 10.638, 14.476, 18.314, 22.152, 25.99 , 29.828, 33.666,\n",
       "        37.504, 41.342, 45.18 , 49.018, 52.856, 56.694, 60.532, 64.37 ,\n",
       "        68.208, 72.046, 75.884, 79.722, 83.56 ]),\n",
       " <a list of 20 Patch objects>)"
      ]
     },
     "execution_count": 20,
     "metadata": {},
     "output_type": "execute_result"
    },
    {
     "data": {
      "image/png": "[encoded data removed]",
      "text/plain": [
       "<Figure size 432x288 with 1 Axes>"
      ]
     },
     "metadata": {
      "needs_background": "light"
     },
     "output_type": "display_data"
    }
   ],
   "source": [
    "# We can also set bins as numbers (instead of manually passing a list):\n",
    "\n",
    "plt.hist(df_swing['dem_share'], bins = 20)"
   ]
  },
  {
   "cell_type": "code",
   "execution_count": 23,
   "metadata": {},
   "outputs": [
    {
     "data": {
      "text/plain": [
       "Text(0, 0.5, 'number of counties')"
      ]
     },
     "execution_count": 23,
     "metadata": {},
     "output_type": "execute_result"
    },
    {
     "data": {
      "image/png": "[encoded data removed]",
      "text/plain": [
       "<Figure size 432x288 with 1 Axes>"
      ]
     },
     "metadata": {},
     "output_type": "display_data"
    }
   ],
   "source": [
    "# Seaborn:\n",
    "\n",
    "# An excellent Matplotlib-based statistical data visualization package wri!en by Michael Waskom:\n",
    "\n",
    "# Setting Seaborn styling:\n",
    "\n",
    "import seaborn as sns\n",
    "\n",
    "#Now instead of writing 'sns.' all the the time we can set it and in future whenever we plot a graph, we will get seaborn plot only\n",
    "\n",
    "sns.set()\n",
    "\n",
    "plt.hist(df_swing['dem_share'])\n",
    "plt.xlabel('percent of vote for Obama')\n",
    "plt.ylabel('number of counties')\n"
   ]
  },
  {
   "cell_type": "code",
   "execution_count": 25,
   "metadata": {},
   "outputs": [
    {
     "data": {
      "text/plain": [
       "Text(0, 0.5, 'number of counties')"
      ]
     },
     "execution_count": 25,
     "metadata": {},
     "output_type": "execute_result"
    },
    {
     "data": {
      "image/png": "[encoded data removed]",
      "text/plain": [
       "<Figure size 432x288 with 1 Axes>"
      ]
     },
     "metadata": {},
     "output_type": "display_data"
    }
   ],
   "source": [
    "# As done above, we can also set number of bins:\n",
    "\n",
    "#A Seaborn-styled histogram:\n",
    "\n",
    "plt.hist(df_swing['dem_share'], bins = 20)\n",
    "plt.xlabel('percent of vote for Obama')\n",
    "plt.ylabel('number of counties')\n"
   ]
  },
  {
   "cell_type": "code",
   "execution_count": 26,
   "metadata": {},
   "outputs": [],
   "source": [
    "# Plot all of your data:\n",
    "\n",
    "#As we can see the above output of histogram plots, in each plot, when we change the number of bins, we get different plot\n",
    "#So if thee question is 'Whether Obama gpt more votes than his opponent in particular region?'\n",
    "\n",
    "#Then answer of this question varies with number of bins, so number of bins might be confusing sometimes.\n",
    "\n",
    "#This is called binning bias:\n",
    "\n",
    "    #The same data may be interpreted differently depending on choice of bins\n",
    "\n",
    "#So we use 'Bee Swarm Plot' in such cases:"
   ]
  },
  {
   "cell_type": "code",
   "execution_count": 28,
   "metadata": {},
   "outputs": [
    {
     "data": {
      "image/png": "[encoded data removed]",
      "text/plain": [
       "<Figure size 432x288 with 1 Axes>"
      ]
     },
     "metadata": {},
     "output_type": "display_data"
    }
   ],
   "source": [
    "# Bee swarm plots:\n",
    "\n",
    "# Here we are considering 'dem_share' and 'state' features of the dataset\n",
    "\n",
    "# Generating a bee swarm plot:\n",
    "\n",
    "_ = sns.swarmplot( x = 'state', y = 'dem_share', data = df_swing)\n",
    "\n",
    "_ = plt.xlabel('state')\n",
    "\n",
    "_ = plt.ylabel('percent of vote for Obama')\n"
   ]
  },
  {
   "cell_type": "code",
   "execution_count": null,
   "metadata": {},
   "outputs": [],
   "source": [
    "# So now from above plot, we can clearly say that Obama's share in votes in all the mentioned states is less than 50%\n",
    "\n",
    "# So swarm plot gives proper plot if we want to see the the quantity of y axis"
   ]
  },
  {
   "cell_type": "code",
   "execution_count": 49,
   "metadata": {},
   "outputs": [
    {
     "name": "stdout",
     "output_type": "stream",
     "text": [
      "Top x values: [ 6.8  17.06 19.33 21.15 24.81 25.34 25.81 25.93 26.09 26.84]\n",
      "\n",
      "Top y values: [0.0045045  0.00900901 0.01351351 0.01801802 0.02252252 0.02702703\n",
      " 0.03153153 0.03603604 0.04054054 0.04504505]\n"
     ]
    }
   ],
   "source": [
    "# Plot all of your data ECDFs:\n",
    "\n",
    "# Empirical cumulative distribution function (ECDF):\n",
    "\n",
    "# Making an ECDF:\n",
    "\n",
    "import numpy as np\n",
    "\n",
    "#Following command will sort all the values of x in ascending order:\n",
    "\n",
    "x = np.sort(df_swing['dem_share']) #x contains total 222 values\n",
    "\n",
    "# Following command will print top 10 values of x (We cannot use '.head(10)' here as head is for dataframes)\n",
    "\n",
    "print('Top x values:', x[:10])\n",
    "\n",
    "print()\n",
    "\n",
    "#Following command will distribute all the values of y on the scale of [0,1]\n",
    "\n",
    "y = np.arange(1, len(x)+1) / len(x) #y contains total 222 values\n",
    "\n",
    "print('Top y values:', y[:10])\n",
    "\n",
    "#We can see each value of y is multiple of '0.0045045'\n"
   ]
  },
  {
   "cell_type": "code",
   "execution_count": 61,
   "metadata": {},
   "outputs": [
    {
     "data": {
      "image/png": "[encoded data removed]",
      "text/plain": [
       "<Figure size 432x288 with 1 Axes>"
      ]
     },
     "metadata": {},
     "output_type": "display_data"
    }
   ],
   "source": [
    "#Now as we have understood ECDF, lets plot it:\n",
    "\n",
    "import numpy as np\n",
    "\n",
    "x = np.sort(df_swing['dem_share'])\n",
    "\n",
    "y = np.arange(1, len(x)+1) / len(x)\n",
    "\n",
    "_ = plt.plot(x,y, marker = '.', linestyle = 'none')\n",
    "\n",
    "_ = plt.xlabel('percent of vote for Obama')\n",
    "\n",
    "_ = plt.ylabel('ECDF')\n",
    "\n",
    "plt.margins(0.01) # Keeps data off plot edges "
   ]
  },
  {
   "cell_type": "code",
   "execution_count": null,
   "metadata": {},
   "outputs": [],
   "source": [
    "# In above example we have found the plot for only one variable - 'dem_share'\n",
    "\n",
    "# We can plot multiple variables as well in it as follows:"
   ]
  },
  {
   "cell_type": "code",
   "execution_count": 27,
   "metadata": {},
   "outputs": [],
   "source": [
    "#We can also create function for ECDF and use it as required:\n",
    "\n",
    "def ecdf(data):\n",
    "    \"\"\"Compute ECDF for a one-dimensional array of measurements.\"\"\"\n",
    "    # Number of data points: n\n",
    "    n = len(data)\n",
    "\n",
    "    # x-data for the ECDF: x\n",
    "    x = np.sort(data)\n",
    "    \n",
    "    # y-data for the ECDF: y\n",
    "    y = np.arange(1, n+1) / n\n",
    "    \n",
    "    return x, y\n"
   ]
  },
  {
   "cell_type": "code",
   "execution_count": 74,
   "metadata": {},
   "outputs": [
    {
     "data": {
      "text/plain": [
       "45.476417910447765"
      ]
     },
     "execution_count": 74,
     "metadata": {},
     "output_type": "execute_result"
    }
   ],
   "source": [
    "# Introduction to summary statistics:\n",
    "# The sample mean and median:\n",
    "\n",
    "# Mean vote percentage:\n",
    "\n",
    "dem_share_PA = df_swing.loc[state == 'PA', 'dem_share']\n",
    "\n",
    "import numpy as np\n",
    "\n",
    "np.mean(dem_share_PA)\n"
   ]
  },
  {
   "cell_type": "code",
   "execution_count": 80,
   "metadata": {},
   "outputs": [
    {
     "data": {
      "text/plain": [
       "43.675"
      ]
     },
     "execution_count": 80,
     "metadata": {},
     "output_type": "execute_result"
    }
   ],
   "source": [
    "#The median\n",
    "#  ● The middle value of a data set\n",
    "\n",
    "dem_share_OH = df_swing.loc[state == 'OH', 'dem_share']\n",
    "\n",
    "#Computing the median:\n",
    "\n",
    "np.median(dem_share_OH)"
   ]
  },
  {
   "cell_type": "code",
   "execution_count": 81,
   "metadata": {},
   "outputs": [
    {
     "data": {
      "text/plain": [
       "array([37.3025, 43.185 , 49.925 ])"
      ]
     },
     "execution_count": 81,
     "metadata": {},
     "output_type": "execute_result"
    }
   ],
   "source": [
    "# Percentiles, outliers, and box plots:\n",
    "\n",
    "#Percentiles on an ECDF:\n",
    "\n",
    "#Computing percentiles:\n",
    "\n",
    "np.percentile(df_swing['dem_share'], [25, 50, 75])"
   ]
  },
  {
   "cell_type": "code",
   "execution_count": 102,
   "metadata": {},
   "outputs": [
    {
     "data": {
      "text/plain": [
       "Text(0, 0.5, 'Percent of vote for Obama')"
      ]
     },
     "execution_count": 102,
     "metadata": {},
     "output_type": "execute_result"
    },
    {
     "data": {
      "image/png": "[encoded data removed]",
      "text/plain": [
       "<Figure size 432x288 with 1 Axes>"
      ]
     },
     "metadata": {},
     "output_type": "display_data"
    }
   ],
   "source": [
    "# Generating a box plot:\n",
    "\n",
    "import matplotlib.pyplot as plt\n",
    "\n",
    "import seaborn as sns\n",
    "\n",
    "sns.boxplot(x = 'state', y = 'dem_share', data = df_swing)\n",
    "\n",
    "plt.xlabel('Region')\n",
    "\n",
    "plt.ylabel('Percent of vote for Obama')\n"
   ]
  },
  {
   "cell_type": "code",
   "execution_count": 30,
   "metadata": {},
   "outputs": [
    {
     "ename": "NameError",
     "evalue": "name 'state' is not defined",
     "output_type": "error",
     "traceback": [
      "\u001b[1;31m---------------------------------------------------------------------------\u001b[0m",
      "\u001b[1;31mNameError\u001b[0m                                 Traceback (most recent call last)",
      "\u001b[1;32m<ipython-input-30-d160b171490c>\u001b[0m in \u001b[0;36m<module>\u001b[1;34m\u001b[0m\n\u001b[0;32m      1\u001b[0m \u001b[1;31m#We can also plot a boxplot for single variable:\u001b[0m\u001b[1;33m\u001b[0m\u001b[1;33m\u001b[0m\u001b[1;33m\u001b[0m\u001b[0m\n\u001b[0;32m      2\u001b[0m \u001b[1;33m\u001b[0m\u001b[0m\n\u001b[1;32m----> 3\u001b[1;33m \u001b[0mPA\u001b[0m \u001b[1;33m=\u001b[0m \u001b[0mdf_swing\u001b[0m\u001b[1;33m.\u001b[0m\u001b[0mloc\u001b[0m\u001b[1;33m[\u001b[0m\u001b[0mstate\u001b[0m \u001b[1;33m==\u001b[0m \u001b[1;34m'PA'\u001b[0m\u001b[1;33m,\u001b[0m \u001b[1;34m'dem_share'\u001b[0m\u001b[1;33m]\u001b[0m\u001b[1;33m\u001b[0m\u001b[1;33m\u001b[0m\u001b[0m\n\u001b[0m\u001b[0;32m      4\u001b[0m \u001b[1;33m\u001b[0m\u001b[0m\n\u001b[0;32m      5\u001b[0m \u001b[0msns\u001b[0m\u001b[1;33m.\u001b[0m\u001b[0mboxplot\u001b[0m\u001b[1;33m(\u001b[0m\u001b[0mPA\u001b[0m\u001b[1;33m)\u001b[0m\u001b[1;33m\u001b[0m\u001b[1;33m\u001b[0m\u001b[0m\n",
      "\u001b[1;31mNameError\u001b[0m: name 'state' is not defined"
     ]
    }
   ],
   "source": [
    "#We can also plot a boxplot for single variable:\n",
    "\n",
    "PA = df_swing.loc[state == 'PA', 'dem_share']\n",
    "\n",
    "sns.boxplot(PA)\n",
    "\n",
    "plt.show()"
   ]
  },
  {
   "cell_type": "code",
   "execution_count": 103,
   "metadata": {
    "scrolled": true
   },
   "outputs": [
    {
     "data": {
      "text/plain": [
       "94.66503492982848"
      ]
     },
     "execution_count": 103,
     "metadata": {},
     "output_type": "execute_result"
    }
   ],
   "source": [
    "# Variance and standard deviation:\n",
    "\n",
    "#Variance\n",
    "#● The mean squared distance of the data from their mean\n",
    "#● Informally, a measure of the spread of data\n",
    "\n",
    "#Computing the variance:\n",
    "\n",
    "np.var(PA)"
   ]
  },
  {
   "cell_type": "code",
   "execution_count": 107,
   "metadata": {},
   "outputs": [
    {
     "data": {
      "text/plain": [
       "9.729595825615187"
      ]
     },
     "execution_count": 107,
     "metadata": {},
     "output_type": "execute_result"
    }
   ],
   "source": [
    "# Computing the standard deviation:\n",
    "\n",
    "np.std(PA)"
   ]
  },
  {
   "cell_type": "code",
   "execution_count": 108,
   "metadata": {},
   "outputs": [
    {
     "data": {
      "text/plain": [
       "9.729595825615187"
      ]
     },
     "execution_count": 108,
     "metadata": {},
     "output_type": "execute_result"
    }
   ],
   "source": [
    "#Now as we knoe std is square root of var:\n",
    "\n",
    "np.sqrt(np.var(PA))"
   ]
  },
  {
   "cell_type": "code",
   "execution_count": 115,
   "metadata": {},
   "outputs": [
    {
     "data": {
      "text/plain": [
       "Text(0, 0.5, 'percent of vote for Obama')"
      ]
     },
     "execution_count": 115,
     "metadata": {},
     "output_type": "execute_result"
    },
    {
     "data": {
      "image/png": "[encoded data removed]",
      "text/plain": [
       "<Figure size 432x288 with 1 Axes>"
      ]
     },
     "metadata": {},
     "output_type": "display_data"
    }
   ],
   "source": [
    "# Covariance and the Pearson correlation coefficient:\n",
    "\n",
    "# Generating a sca\"er plot:\n",
    "\n",
    "total_votes = df_swing.loc[:,'total_votes']\n",
    "\n",
    "dem_share = df_swing.loc[:,'dem_share']\n",
    "\n",
    "plt.plot(total_votes/1000, dem_share, marker='.', linestyle='none')\n",
    "\n",
    "# 'marker = '.'' will reduce the size of the spots\n",
    "\n",
    "plt.xlabel('total votes (thousands)')\n",
    "plt.ylabel('percent of vote for Obama')"
   ]
  },
  {
   "cell_type": "code",
   "execution_count": 119,
   "metadata": {},
   "outputs": [
    {
     "data": {
      "text/plain": [
       "<matplotlib.collections.PathCollection at 0x20521284fd0>"
      ]
     },
     "execution_count": 119,
     "metadata": {},
     "output_type": "execute_result"
    },
    {
     "data": {
      "image/png": "[encoded data removed]",
      "text/plain": [
       "<Figure size 432x288 with 1 Axes>"
      ]
     },
     "metadata": {},
     "output_type": "display_data"
    }
   ],
   "source": [
    "#Scatter plot can be drawn as follows also:\n",
    "\n",
    "plt.scatter(total_votes/1000,dem_share)\n",
    "\n",
    "#After using marker, we can reduce the size of the spots"
   ]
  },
  {
   "cell_type": "code",
   "execution_count": null,
   "metadata": {},
   "outputs": [],
   "source": [
    "# Covariance: A measure of how two quantities vary together"
   ]
  },
  {
   "cell_type": "code",
   "execution_count": 1,
   "metadata": {},
   "outputs": [],
   "source": [
    "# Probabilistic logic and statistical inference:\n",
    "\n",
    "# Random number generators and hacker statistics:\n",
    "\n",
    "# Hacker statistics:\n",
    "\n",
    "    #Uses simulated repeated measurements to compute probabilities.\n",
    "    \n",
    "# The np.random module:\n",
    "    #● Suite of functions based on random number generation\n",
    "    #● np.random.random(): draw a number between 0 and 1\n",
    "\n",
    "# Bernoulli trial\n",
    "    #● An experiment that has two options, \"success\" (True) and \"failure\" (False)\n",
    "    \n",
    "# Random number seed:\n",
    "    # ● Integer fed into random number generating algorithm\n",
    "    # ● Manually seed random number generator if you need reproducibility\n",
    "    # ● Specified using np.random.seed()\n"
   ]
  },
  {
   "cell_type": "code",
   "execution_count": 2,
   "metadata": {},
   "outputs": [
    {
     "name": "stdout",
     "output_type": "stream",
     "text": [
      "[0.37454012 0.95071431 0.73199394 0.59865848]\n"
     ]
    }
   ],
   "source": [
    "# Simulating 4 coin flips:\n",
    "\n",
    "import numpy as np\n",
    "np.random.seed(42)\n",
    "\n",
    "random_numbers = np.random.random(size = 4)\n",
    "\n",
    "print(random_numbers)"
   ]
  },
  {
   "cell_type": "code",
   "execution_count": 4,
   "metadata": {},
   "outputs": [
    {
     "data": {
      "text/plain": [
       "array([ True, False, False, False])"
      ]
     },
     "execution_count": 4,
     "metadata": {},
     "output_type": "execute_result"
    }
   ],
   "source": [
    "heads = random_numbers < 0.5\n",
    "\n",
    "heads"
   ]
  },
  {
   "cell_type": "code",
   "execution_count": 5,
   "metadata": {},
   "outputs": [
    {
     "data": {
      "text/plain": [
       "1"
      ]
     },
     "execution_count": 5,
     "metadata": {},
     "output_type": "execute_result"
    }
   ],
   "source": [
    "np.sum(heads)\n",
    "\n",
    "#Getting 1 as output as only one True value is present in above output"
   ]
  },
  {
   "cell_type": "code",
   "execution_count": 9,
   "metadata": {},
   "outputs": [
    {
     "data": {
      "text/plain": [
       "0.0619"
      ]
     },
     "execution_count": 9,
     "metadata": {},
     "output_type": "execute_result"
    }
   ],
   "source": [
    "# Simulating 4 coin flips:\n",
    "\n",
    "n_all_heads = 0 # Initialize number of 4-heads trials\n",
    "\n",
    "for _ in range(10000):\n",
    "    heads = np.random.random(size = 4) < 0.5\n",
    "    n_heads = np.sum(heads)\n",
    "    if n_heads == 4:\n",
    "        n_all_heads = n_all_heads + 1\n",
    "\n",
    "n_all_heads / 10000\n",
    "\n",
    "#So from the output we can say that there's arund 6% chances of getting all the heads"
   ]
  },
  {
   "cell_type": "code",
   "execution_count": 10,
   "metadata": {},
   "outputs": [],
   "source": [
    "# Hacker stats probabilities:\n",
    "\n",
    "    #● Determine how to simulate data\n",
    "    #● Simulate many many times\n",
    "    #● Probability is approximately fraction of trials with the outcome of interest"
   ]
  },
  {
   "cell_type": "code",
   "execution_count": null,
   "metadata": {},
   "outputs": [],
   "source": [
    "# Probability distributions and stories: The Binomial distribution:\n",
    "\n",
    "#Probability mass function (PMF): The set of probabilities of discrete outcomes\n"
   ]
  },
  {
   "cell_type": "code",
   "execution_count": null,
   "metadata": {},
   "outputs": [],
   "source": [
    "# Discrete Uniform PMF"
   ]
  },
  {
   "cell_type": "code",
   "execution_count": 11,
   "metadata": {},
   "outputs": [],
   "source": [
    "# Probability distribution:  A mathematical description of outcomes"
   ]
  },
  {
   "cell_type": "code",
   "execution_count": null,
   "metadata": {},
   "outputs": [],
   "source": [
    "# Discrete Uniform distribution: the story: ● The outcome of rolling a single fair die is Discrete Uniformly distributed."
   ]
  },
  {
   "cell_type": "code",
   "execution_count": 14,
   "metadata": {},
   "outputs": [
    {
     "name": "stdout",
     "output_type": "stream",
     "text": [
      "1\n",
      "[1 3 2 0 2 2 1 2 2 2]\n"
     ]
    }
   ],
   "source": [
    "# Binomial distribution: the story:\n",
    "\n",
    "#● The number r of successes in n Bernoulli trials with probability p of success, is Binomially distributed\n",
    "#● The number r of heads in 4 coin flips with probability 0.5 of heads, is Binomially distributed\n",
    "\n",
    "# Sampling from the Binomial distribution:\n",
    "\n",
    "print(np.random.binomial(4,0.5))\n",
    "\n",
    "print(np.random.binomial(4,0.5, size = 10))\n"
   ]
  },
  {
   "cell_type": "code",
   "execution_count": 15,
   "metadata": {},
   "outputs": [],
   "source": [
    "# The Binomial PMF:\n",
    "\n",
    "samples = np.random.binomial(60, 0.1, size=10000)\n"
   ]
  },
  {
   "cell_type": "code",
   "execution_count": 28,
   "metadata": {},
   "outputs": [
    {
     "data": {
      "image/png": "[encoded data removed]",
      "text/plain": [
       "<Figure size 432x288 with 1 Axes>"
      ]
     },
     "metadata": {},
     "output_type": "display_data"
    }
   ],
   "source": [
    "# The Binomial CDF:\n",
    "\n",
    "import matplotlib.pyplot as plt\n",
    "import seaborn as sns\n",
    "sns.set()\n",
    "x, y = ecdf(samples)\n",
    "_ = plt.plot(x, y, marker='.', linestyle='none')\n",
    "plt.margins(0.02)\n",
    "_ = plt.xlabel('number of successes')\n",
    "_ = plt.ylabel('CDF')\n",
    "plt.show()\n",
    "\n"
   ]
  },
  {
   "cell_type": "code",
   "execution_count": null,
   "metadata": {},
   "outputs": [],
   "source": [
    "# Poisson processes and the Poisson distribution:\n",
    "\n",
    "# Poisson process: \n",
    "    # ● The timing of the next event is completely independent of when the previous event happened\n"
   ]
  },
  {
   "cell_type": "code",
   "execution_count": null,
   "metadata": {},
   "outputs": [],
   "source": [
    "# Examples of Poisson processes:\n",
    "    #● Natural births in a given hospital\n",
    "    #● Hit on a website during a given hour\n",
    "    #● Meteor strikes\n",
    "    #● Molecular collisions in a gas\n",
    "    #● Aviation incidents\n",
    "    #● Buses in Poissonville"
   ]
  },
  {
   "cell_type": "code",
   "execution_count": 20,
   "metadata": {},
   "outputs": [],
   "source": [
    "# Poisson distribution:\n",
    "\n",
    "#● The number r of arrivals of a Poisson process in a\n",
    "#given time interval with average rate of λ arrivals\n",
    "#per interval is Poisson distributed.\n",
    "#● The number r of hits on a website in one hour with\n",
    "#an average hit rate of 6 hits per hour is Poisson\n",
    "#distributed."
   ]
  },
  {
   "cell_type": "code",
   "execution_count": null,
   "metadata": {},
   "outputs": [],
   "source": [
    "# Poisson Distribution:\n",
    "\n",
    "#● Limit of the Binomial distribution for low probability of success and large number of trials.\n",
    "#● That is, for rare events."
   ]
  },
  {
   "cell_type": "code",
   "execution_count": 21,
   "metadata": {},
   "outputs": [
    {
     "data": {
      "image/png": "[encoded data removed]",
      "text/plain": [
       "<Figure size 432x288 with 1 Axes>"
      ]
     },
     "metadata": {},
     "output_type": "display_data"
    }
   ],
   "source": [
    "samples = np.random.poisson(6, size=10000)\n",
    "x, y = ecdf(samples)\n",
    "_ = plt.plot(x, y, marker='.', linestyle='none')\n",
    "plt.margins(0.02)\n",
    "_ = plt.xlabel('number of successes')\n",
    "_ = plt.ylabel('CDF')\n",
    "plt.show()"
   ]
  },
  {
   "cell_type": "code",
   "execution_count": null,
   "metadata": {},
   "outputs": [],
   "source": [
    "# Probability density functions:\n",
    "\n",
    "# Continuous variables: Quantities that can take any value, not just discrete values"
   ]
  },
  {
   "cell_type": "code",
   "execution_count": 22,
   "metadata": {},
   "outputs": [],
   "source": [
    "# Probability density function (PDF):\n",
    "\n",
    "#● Continuous analog to the PMF\n",
    "#● Mathematical description of the relative likelihood of observing a value of a continuous variable"
   ]
  },
  {
   "cell_type": "code",
   "execution_count": null,
   "metadata": {},
   "outputs": [],
   "source": [
    "# Normal PDF:"
   ]
  },
  {
   "cell_type": "code",
   "execution_count": null,
   "metadata": {},
   "outputs": [],
   "source": [
    "# Introduction to the Normal distribution:\n",
    "\n",
    "# Normal distribution:\n",
    "    #● Describes a continuous variable whose PDF has a single symmetric peak"
   ]
  },
  {
   "cell_type": "code",
   "execution_count": 23,
   "metadata": {},
   "outputs": [],
   "source": [
    "# The Exponential distribution: The waiting time between arrivals of a Poisson process is Exponentially distributed"
   ]
  },
  {
   "cell_type": "code",
   "execution_count": null,
   "metadata": {},
   "outputs": [],
   "source": [
    "# Possible Poisson process:\n",
    "\n",
    "    #● Nuclear incidents:\n",
    "    #● Timing of one is independent of all others\n"
   ]
  },
  {
   "cell_type": "code",
   "execution_count": 5,
   "metadata": {},
   "outputs": [
    {
     "data": {
      "text/html": [
       "<div>\n",
       "<style scoped>\n",
       "    .dataframe tbody tr th:only-of-type {\n",
       "        vertical-align: middle;\n",
       "    }\n",
       "\n",
       "    .dataframe tbody tr th {\n",
       "        vertical-align: top;\n",
       "    }\n",
       "\n",
       "    .dataframe thead th {\n",
       "        text-align: right;\n",
       "    }\n",
       "</style>\n",
       "<table border=\"1\" class=\"dataframe\">\n",
       "  <thead>\n",
       "    <tr style=\"text-align: right;\">\n",
       "      <th></th>\n",
       "      <th>state</th>\n",
       "      <th>county</th>\n",
       "      <th>total_votes</th>\n",
       "      <th>dem_votes</th>\n",
       "      <th>rep_votes</th>\n",
       "      <th>dem_share</th>\n",
       "    </tr>\n",
       "  </thead>\n",
       "  <tbody>\n",
       "    <tr>\n",
       "      <th>0</th>\n",
       "      <td>PA</td>\n",
       "      <td>Erie County</td>\n",
       "      <td>127691</td>\n",
       "      <td>75775</td>\n",
       "      <td>50351</td>\n",
       "      <td>60.08</td>\n",
       "    </tr>\n",
       "    <tr>\n",
       "      <th>1</th>\n",
       "      <td>PA</td>\n",
       "      <td>Bradford County</td>\n",
       "      <td>25787</td>\n",
       "      <td>10306</td>\n",
       "      <td>15057</td>\n",
       "      <td>40.64</td>\n",
       "    </tr>\n",
       "    <tr>\n",
       "      <th>2</th>\n",
       "      <td>PA</td>\n",
       "      <td>Tioga County</td>\n",
       "      <td>17984</td>\n",
       "      <td>6390</td>\n",
       "      <td>11326</td>\n",
       "      <td>36.07</td>\n",
       "    </tr>\n",
       "    <tr>\n",
       "      <th>3</th>\n",
       "      <td>PA</td>\n",
       "      <td>McKean County</td>\n",
       "      <td>15947</td>\n",
       "      <td>6465</td>\n",
       "      <td>9224</td>\n",
       "      <td>41.21</td>\n",
       "    </tr>\n",
       "    <tr>\n",
       "      <th>4</th>\n",
       "      <td>PA</td>\n",
       "      <td>Potter County</td>\n",
       "      <td>7507</td>\n",
       "      <td>2300</td>\n",
       "      <td>5109</td>\n",
       "      <td>31.04</td>\n",
       "    </tr>\n",
       "  </tbody>\n",
       "</table>\n",
       "</div>"
      ],
      "text/plain": [
       "  state           county  total_votes  dem_votes  rep_votes  dem_share\n",
       "0    PA      Erie County       127691      75775      50351      60.08\n",
       "1    PA  Bradford County        25787      10306      15057      40.64\n",
       "2    PA     Tioga County        17984       6390      11326      36.07\n",
       "3    PA    McKean County        15947       6465       9224      41.21\n",
       "4    PA    Potter County         7507       2300       5109      31.04"
      ]
     },
     "execution_count": 5,
     "metadata": {},
     "output_type": "execute_result"
    }
   ],
   "source": [
    "# Optimal parameters:\n",
    "\n",
    "# Checking Normality:\n",
    "\n",
    "df_swing.head()"
   ]
  },
  {
   "cell_type": "code",
   "execution_count": 8,
   "metadata": {},
   "outputs": [],
   "source": [
    "# Checking Normality of dem_votes:\n",
    "\n",
    "import numpy as np\n",
    "import matplotlib.pyplot as plt\n",
    "\n",
    "mean = np.mean(df_swing['dem_votes'])\n",
    "\n",
    "std = np.std(df_swing['dem_votes'])\n",
    "\n",
    "samples = np.random.normal(mean, std, size = 10000)"
   ]
  },
  {
   "cell_type": "code",
   "execution_count": 14,
   "metadata": {},
   "outputs": [
    {
     "data": {
      "text/plain": [
       "(array([  1.,   0.,   2.,   2.,   2.,   6.,  10.,  13.,  25.,  30.,  35.,\n",
       "         59.,  69., 107., 110., 190., 196., 230., 325., 353., 422., 485.,\n",
       "        545., 541., 563., 604., 585., 577., 562., 510., 474., 423., 409.,\n",
       "        292., 286., 256., 174., 137.,  95.,  81.,  63.,  48.,  35.,  27.,\n",
       "         17.,   9.,   7.,   4.,   1.,   3.]),\n",
       " array([-301298.61298693, -288023.36728709, -274748.12158724,\n",
       "        -261472.87588739, -248197.63018754, -234922.38448769,\n",
       "        -221647.13878784, -208371.89308799, -195096.64738815,\n",
       "        -181821.4016883 , -168546.15598845, -155270.9102886 ,\n",
       "        -141995.66458875, -128720.4188889 , -115445.17318905,\n",
       "        -102169.9274892 ,  -88894.68178936,  -75619.43608951,\n",
       "         -62344.19038966,  -49068.94468981,  -35793.69898996,\n",
       "         -22518.45329011,   -9243.20759026,    4032.03810958,\n",
       "          17307.28380943,   30582.52950928,   43857.77520913,\n",
       "          57133.02090898,   70408.26660883,   83683.51230868,\n",
       "          96958.75800852,  110234.00370837,  123509.24940822,\n",
       "         136784.49510807,  150059.74080792,  163334.98650777,\n",
       "         176610.23220762,  189885.47790747,  203160.72360731,\n",
       "         216435.96930716,  229711.21500701,  242986.46070686,\n",
       "         256261.70640671,  269536.95210656,  282812.19780641,\n",
       "         296087.44350625,  309362.6892061 ,  322637.93490595,\n",
       "         335913.1806058 ,  349188.42630565,  362463.6720055 ]),\n",
       " <a list of 50 Patch objects>)"
      ]
     },
     "execution_count": 14,
     "metadata": {},
     "output_type": "execute_result"
    },
    {
     "data": {
      "image/png": "[encoded data removed]",
      "text/plain": [
       "<Figure size 432x288 with 1 Axes>"
      ]
     },
     "metadata": {
      "needs_background": "light"
     },
     "output_type": "display_data"
    }
   ],
   "source": [
    "plt.hist(samples, bins = 50)"
   ]
  },
  {
   "cell_type": "code",
   "execution_count": null,
   "metadata": {},
   "outputs": [],
   "source": [
    "#Optimal parameters:\n",
    "\n",
    "#● Parameter values that bring the model in closest agreement with the data"
   ]
  },
  {
   "cell_type": "code",
   "execution_count": 15,
   "metadata": {},
   "outputs": [],
   "source": [
    "# Least squares with np.polyfit():\n",
    "\n",
    "slope, intercept = np.polyfit(df_swing['total_votes'], df_swing['dem_share'],  1)"
   ]
  },
  {
   "cell_type": "code",
   "execution_count": 17,
   "metadata": {},
   "outputs": [
    {
     "data": {
      "text/plain": [
       "4.037071700946557e-05"
      ]
     },
     "execution_count": 17,
     "metadata": {},
     "output_type": "execute_result"
    }
   ],
   "source": [
    "slope"
   ]
  },
  {
   "cell_type": "code",
   "execution_count": 19,
   "metadata": {},
   "outputs": [
    {
     "data": {
      "text/plain": [
       "40.11391196864175"
      ]
     },
     "execution_count": 19,
     "metadata": {},
     "output_type": "execute_result"
    }
   ],
   "source": [
    "intercept"
   ]
  },
  {
   "cell_type": "code",
   "execution_count": 25,
   "metadata": {},
   "outputs": [
    {
     "data": {
      "text/plain": [
       "[<matplotlib.lines.Line2D at 0x2674f89da20>]"
      ]
     },
     "execution_count": 25,
     "metadata": {},
     "output_type": "execute_result"
    },
    {
     "data": {
      "image/png": "[encoded data removed]",
      "text/plain": [
       "<Figure size 432x288 with 1 Axes>"
      ]
     },
     "metadata": {
      "needs_background": "light"
     },
     "output_type": "display_data"
    }
   ],
   "source": [
    "\n",
    "plt.plot(df_swing['total_votes'], df_swing['dem_share'], marker = '.', linestyle = 'none')"
   ]
  },
  {
   "cell_type": "code",
   "execution_count": 31,
   "metadata": {},
   "outputs": [],
   "source": [
    "# Generating bootstrap replicates:\n",
    "\n",
    "#Resampling an array:\n",
    "\n",
    "# Data = [23.3, 27.1, 24.3, 25.7, 26.0]    #Mean = 25.2\n",
    "\n",
    "# Resampled Data = [27.1, 26.0, 23.3, 25.7, 23.3]   #Mean = 25.08"
   ]
  },
  {
   "cell_type": "code",
   "execution_count": null,
   "metadata": {},
   "outputs": [],
   "source": [
    "# Bootstrapping:\n",
    "#              ● The use of resampled data to perform statistical inference"
   ]
  },
  {
   "cell_type": "code",
   "execution_count": 32,
   "metadata": {},
   "outputs": [],
   "source": [
    "# Bootstrap sample:  ● A resampled array of the data"
   ]
  },
  {
   "cell_type": "code",
   "execution_count": null,
   "metadata": {},
   "outputs": [],
   "source": [
    "# Bootstrap replicate : ● A statistic computed from a resampled array"
   ]
  },
  {
   "cell_type": "code",
   "execution_count": 34,
   "metadata": {},
   "outputs": [
    {
     "data": {
      "text/plain": [
       "array([4, 3, 5, 1, 1, 1, 3, 2])"
      ]
     },
     "execution_count": 34,
     "metadata": {},
     "output_type": "execute_result"
    }
   ],
   "source": [
    "# Resampling engine: np.random.choice():\n",
    "\n",
    "import numpy as np\n",
    "\n",
    "np.random.choice([1,2,3,4,5], size = 8)"
   ]
  },
  {
   "cell_type": "code",
   "execution_count": 35,
   "metadata": {},
   "outputs": [
    {
     "data": {
      "text/plain": [
       "Index(['state', 'county', 'total_votes', 'dem_votes', 'rep_votes',\n",
       "       'dem_share'],\n",
       "      dtype='object')"
      ]
     },
     "execution_count": 35,
     "metadata": {},
     "output_type": "execute_result"
    }
   ],
   "source": [
    "df_swing.columns"
   ]
  },
  {
   "cell_type": "code",
   "execution_count": 37,
   "metadata": {},
   "outputs": [],
   "source": [
    "total_votes = df_swing['total_votes']"
   ]
  },
  {
   "cell_type": "code",
   "execution_count": 48,
   "metadata": {},
   "outputs": [
    {
     "name": "stdout",
     "output_type": "stream",
     "text": [
      "90424.51351351352\n",
      "32491.0\n",
      "141964.46659093257\n"
     ]
    }
   ],
   "source": [
    "print(np.mean(total_votes))\n",
    "\n",
    "print(np.median(total_votes))\n",
    "\n",
    "print(np.std(total_votes))\n"
   ]
  },
  {
   "cell_type": "code",
   "execution_count": 45,
   "metadata": {},
   "outputs": [],
   "source": [
    "votes_random = np.random.choice(total_votes, size = 1000)"
   ]
  },
  {
   "cell_type": "code",
   "execution_count": 54,
   "metadata": {},
   "outputs": [
    {
     "name": "stdout",
     "output_type": "stream",
     "text": [
      "87834.537\n",
      "31098.0\n",
      "31098.0\n"
     ]
    }
   ],
   "source": [
    "print(np.mean(votes_random))\n",
    "\n",
    "print(np.median(votes_random))\n",
    "\n",
    "print(np.median(votes_random))\n",
    "\n",
    "#So from output we can see that for both total_votes and votes_random mean and median values are not equal but approx same"
   ]
  },
  {
   "cell_type": "code",
   "execution_count": 51,
   "metadata": {},
   "outputs": [],
   "source": [
    "# Bootstrap confidence intervals:\n",
    "\n",
    "# Bootstrap replicate function:\n",
    "\n",
    "def bootstrap_replicate_1d(data, func):\n",
    "     \"\"\"Generate bootstrap replicate of 1D data.\"\"\"\n",
    "     bs_sample = np.random.choice(data, len(data))\n",
    "     return func(bs_sample)"
   ]
  },
  {
   "cell_type": "code",
   "execution_count": 55,
   "metadata": {},
   "outputs": [
    {
     "data": {
      "text/plain": [
       "85050.98"
      ]
     },
     "execution_count": 55,
     "metadata": {},
     "output_type": "execute_result"
    }
   ],
   "source": [
    "bootstrap_replicate_1d(votes_random, np.mean)"
   ]
  },
  {
   "cell_type": "code",
   "execution_count": 56,
   "metadata": {},
   "outputs": [
    {
     "data": {
      "text/plain": [
       "93667.424"
      ]
     },
     "execution_count": 56,
     "metadata": {},
     "output_type": "execute_result"
    }
   ],
   "source": [
    "bootstrap_replicate_1d(votes_random, np.mean)"
   ]
  },
  {
   "cell_type": "code",
   "execution_count": 58,
   "metadata": {},
   "outputs": [
    {
     "data": {
      "text/plain": [
       "85834.509"
      ]
     },
     "execution_count": 58,
     "metadata": {},
     "output_type": "execute_result"
    }
   ],
   "source": [
    "bootstrap_replicate_1d(votes_random, np.mean)"
   ]
  },
  {
   "cell_type": "code",
   "execution_count": 61,
   "metadata": {},
   "outputs": [],
   "source": [
    "bs_replicates = np.empty(10000)\n",
    "\n",
    "for i in range(10000):\n",
    "    bs_replicates[i] = bootstrap_replicate_1d(votes_random, np.mean) "
   ]
  },
  {
   "cell_type": "code",
   "execution_count": 62,
   "metadata": {},
   "outputs": [
    {
     "data": {
      "text/plain": [
       "array([88791.086, 85162.756, 89021.418, ..., 81426.232, 87457.393,\n",
       "       86223.349])"
      ]
     },
     "execution_count": 62,
     "metadata": {},
     "output_type": "execute_result"
    }
   ],
   "source": [
    "bs_replicates"
   ]
  },
  {
   "cell_type": "code",
   "execution_count": 65,
   "metadata": {},
   "outputs": [
    {
     "name": "stderr",
     "output_type": "stream",
     "text": [
      "C:\\Users\\stayde\\AppData\\Local\\Continuum\\anaconda3\\lib\\site-packages\\ipykernel_launcher.py:3: MatplotlibDeprecationWarning: \n",
      "The 'normed' kwarg was deprecated in Matplotlib 2.1 and will be removed in 3.1. Use 'density' instead.\n",
      "  This is separate from the ipykernel package so we can avoid doing imports until\n"
     ]
    },
    {
     "data": {
      "image/png": "[encoded data removed]",
      "text/plain": [
       "<Figure size 432x288 with 1 Axes>"
      ]
     },
     "metadata": {},
     "output_type": "display_data"
    }
   ],
   "source": [
    "# Plotting a histogram of bootstrap replicates:\n",
    "\n",
    "plt.hist(bs_replicates, bins=30, normed=True)\n",
    "\n",
    "plt.xlabel('mean speed of light (km/s)')\n",
    "\n",
    "plt.ylabel('PDF')\n",
    "\n",
    "plt.show()"
   ]
  },
  {
   "cell_type": "code",
   "execution_count": null,
   "metadata": {},
   "outputs": [],
   "source": [
    "# Confidence interval of a statistic:\n",
    "\n",
    "# If we repeated measurements over and over again, p% of the observed values would lie within the p% confidence interval."
   ]
  },
  {
   "cell_type": "code",
   "execution_count": 70,
   "metadata": {},
   "outputs": [
    {
     "data": {
      "text/plain": [
       "array([79652.7813  , 96499.995775])"
      ]
     },
     "execution_count": 70,
     "metadata": {},
     "output_type": "execute_result"
    }
   ],
   "source": [
    "# Bootstrap confidence interval:\n",
    "\n",
    "conf_int = np.percentile(bs_replicates, [2.5, 97.5])\n",
    "\n",
    "conf_int"
   ]
  },
  {
   "cell_type": "code",
   "execution_count": null,
   "metadata": {},
   "outputs": [],
   "source": [
    "# Pairs bootstrap:\n",
    "\n",
    "# Nonparametric inference:\n",
    "\n",
    "#● Make no assumptions about the model or probability distribution underlying the data\n",
    "\n",
    "#Pairs bootstrap for linear regression\n",
    "    #● Resample data in pairs\n",
    "    #● Compute slope and intercept from resampled data\n",
    "    #● Each slope and intercept is a bootstrap replicate\n",
    "    #● Compute confidence intervals from percentiles of bootstrap replicates\n"
   ]
  },
  {
   "cell_type": "code",
   "execution_count": 78,
   "metadata": {},
   "outputs": [],
   "source": [
    "# Generating a pairs bootstrap sample:\n",
    "\n",
    "dem_share = df_swing['dem_share']\n",
    "\n",
    "np.arange(7)\n",
    "\n",
    "inds = np.arange(len(total_votes))\n",
    "\n",
    "bs_inds = np.random.choice(inds, len(inds))\n",
    "\n",
    "bs_total_votes = total_votes[bs_inds]\n",
    "\n",
    "bs_dem_share = dem_share[bs_inds]"
   ]
  },
  {
   "cell_type": "code",
   "execution_count": 79,
   "metadata": {},
   "outputs": [],
   "source": [
    "# Computing a pairs bootstrap replicate:\n",
    "\n",
    "bs_slope, bs_intercept = np.polyfit(bs_total_votes, bs_dem_share, 1) "
   ]
  },
  {
   "cell_type": "code",
   "execution_count": 80,
   "metadata": {},
   "outputs": [
    {
     "data": {
      "text/plain": [
       "(3.629558115537744e-05, 40.00961340389581)"
      ]
     },
     "execution_count": 80,
     "metadata": {},
     "output_type": "execute_result"
    }
   ],
   "source": [
    "bs_slope, bs_intercept"
   ]
  },
  {
   "cell_type": "code",
   "execution_count": 81,
   "metadata": {},
   "outputs": [
    {
     "data": {
      "text/plain": [
       "array([4.0370717e-05, 4.0113912e+01])"
      ]
     },
     "execution_count": 81,
     "metadata": {},
     "output_type": "execute_result"
    }
   ],
   "source": [
    "np.polyfit(total_votes, dem_share, 1)"
   ]
  },
  {
   "cell_type": "code",
   "execution_count": 3,
   "metadata": {},
   "outputs": [],
   "source": [
    "import numpy as np\n",
    "\n",
    "perm_replicates = np.empty(10000)"
   ]
  },
  {
   "cell_type": "code",
   "execution_count": 7,
   "metadata": {},
   "outputs": [
    {
     "data": {
      "text/plain": [
       "array([1.27500626e-311, 1.27501305e-311, 2.12199579e-314, 0.00000000e+000])"
      ]
     },
     "execution_count": 7,
     "metadata": {},
     "output_type": "execute_result"
    }
   ],
   "source": [
    "perm_replicates[:4]"
   ]
  },
  {
   "cell_type": "code",
   "execution_count": 8,
   "metadata": {},
   "outputs": [],
   "source": [
    "# Formulating and simulating hypotheses:\n",
    "\n",
    "# Hypothesis testing:\n",
    "    #● Assessment of how reasonable the observed data are assuming a hypothesis is true\n",
    "\n",
    "# Null hypothesis:\n",
    "    #● Another name for the hypothesis you are testing\n"
   ]
  },
  {
   "cell_type": "code",
   "execution_count": null,
   "metadata": {},
   "outputs": [],
   "source": [
    "# Permutation: ● Random reordering of entries in an array\n"
   ]
  },
  {
   "cell_type": "code",
   "execution_count": 9,
   "metadata": {},
   "outputs": [],
   "source": [
    "# Test statistics and p-values:\n",
    "\n",
    "# Hypothesis testing: Assessment of how reasonable the observed data are assuming a hypothesis is true\n",
    "\n",
    "# Test statistic: \n",
    "\n",
    "#● A single number that can be computed from observed data and from data you simulate under the null hypothesis\n",
    "#● It serves as a basis of comparison between the two\n"
   ]
  },
  {
   "cell_type": "code",
   "execution_count": null,
   "metadata": {},
   "outputs": [],
   "source": [
    "# p-value:\n",
    "    \n",
    "#● The probability of obtaining a value of your test statistic that is at least as extreme as what was observed,\n",
    "#  under the assumption the null hypothesis is true\n",
    "#● NOT the probability that the null hypothesis is true\n"
   ]
  },
  {
   "cell_type": "code",
   "execution_count": 10,
   "metadata": {},
   "outputs": [],
   "source": [
    "# Statistical significance:\n",
    "    # ● Determined by the smallness of a p-value"
   ]
  },
  {
   "cell_type": "code",
   "execution_count": null,
   "metadata": {},
   "outputs": [],
   "source": [
    "# statistical significance ≠ practical significance"
   ]
  },
  {
   "cell_type": "code",
   "execution_count": 11,
   "metadata": {},
   "outputs": [],
   "source": [
    "# Bootstrap hypothesis tests:\n",
    "\n",
    "# Pipeline for hypothesis testing:\n",
    "    #● Clearly state the null hypothesis\n",
    "    #● Define your test statistic\n",
    "    #● Generate many sets of simulated data assuming the null hypothesis is true\n",
    "    #● Compute the test statistic for each simulated data set\n",
    "    #● The p-value is the fraction of your simulated data sets for which the test statistic is at least as extreme as for the real data"
   ]
  },
  {
   "cell_type": "code",
   "execution_count": null,
   "metadata": {},
   "outputs": [],
   "source": [
    "#One sample test:\n",
    "    #● Compare one set of data to a single number\n",
    "\n",
    "#Two sample test:\n",
    "    #● Compare two sets of data\n"
   ]
  },
  {
   "cell_type": "code",
   "execution_count": null,
   "metadata": {},
   "outputs": [],
   "source": []
  }
 ],
 "metadata": {
  "kernelspec": {
   "display_name": "Python 3",
   "language": "python",
   "name": "python3"
  },
  "language_info": {
   "codemirror_mode": {
    "name": "ipython",
    "version": 3
   },
   "file_extension": ".py",
   "mimetype": "text/x-python",
   "name": "python",
   "nbconvert_exporter": "python",
   "pygments_lexer": "ipython3",
   "version": "3.8.8"
  }
 },
 "nbformat": 4,
 "nbformat_minor": 2
}
